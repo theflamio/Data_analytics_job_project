{
 "cells": [
  {
   "cell_type": "code",
   "execution_count": 43,
   "metadata": {},
   "outputs": [],
   "source": [
    "import polars as pl\n",
    "\n",
    "# Load the CSV file into a Polars DataFrame\n",
    "df = pl.read_csv('gsearch_jobs.csv')"
   ]
  },
  {
   "cell_type": "code",
   "execution_count": 44,
   "metadata": {},
   "outputs": [
    {
     "name": "stdout",
     "output_type": "stream",
     "text": [
      "shape: (9, 28)\n",
      "┌───────────┬───────────┬───────────┬───────────┬───┬───────────┬───────────┬───────────┬──────────┐\n",
      "│ statistic ┆           ┆ index     ┆ title     ┆ … ┆ salary_ho ┆ salary_ye ┆ salary_st ┆ descript │\n",
      "│ ---       ┆ ---       ┆ ---       ┆ ---       ┆   ┆ urly      ┆ arly      ┆ andardize ┆ ion_toke │\n",
      "│ str       ┆ f64       ┆ f64       ┆ str       ┆   ┆ ---       ┆ ---       ┆ d         ┆ ns       │\n",
      "│           ┆           ┆           ┆           ┆   ┆ f64       ┆ f64       ┆ ---       ┆ ---      │\n",
      "│           ┆           ┆           ┆           ┆   ┆           ┆           ┆ f64       ┆ str      │\n",
      "╞═══════════╪═══════════╪═══════════╪═══════════╪═══╪═══════════╪═══════════╪═══════════╪══════════╡\n",
      "│ count     ┆ 60300.0   ┆ 60300.0   ┆ 60300     ┆ … ┆ 5826.0    ┆ 3970.0    ┆ 9893.0    ┆ 60300    │\n",
      "│ null_coun ┆ 0.0       ┆ 0.0       ┆ 0         ┆ … ┆ 54474.0   ┆ 56330.0   ┆ 50407.0   ┆ 0        │\n",
      "│ t         ┆           ┆           ┆           ┆   ┆           ┆           ┆           ┆          │\n",
      "│ mean      ┆ 30149.5   ┆ 1153.6337 ┆ null      ┆ … ┆ 40.718141 ┆ 104304.34 ┆ 92549.213 ┆ null     │\n",
      "│           ┆           ┆ 81        ┆           ┆   ┆           ┆ 3809      ┆ 593       ┆          │\n",
      "│ std       ┆ 17407.254 ┆ 718.59215 ┆ null      ┆ … ┆ 22.241278 ┆ 35939.150 ┆ 43332.566 ┆ null     │\n",
      "│           ┆ 953       ┆ 3         ┆           ┆   ┆           ┆ 963       ┆ 149       ┆          │\n",
      "│ min       ┆ 0.0       ┆ 0.0       ┆ !!        ┆ … ┆ 7.25      ┆ 29289.84  ┆ 15080.0   ┆ ['airflo │\n",
      "│           ┆           ┆           ┆ Business  ┆   ┆           ┆           ┆           ┆ w',      │\n",
      "│           ┆           ┆           ┆ Data      ┆   ┆           ┆           ┆           ┆ 'aws',   │\n",
      "│           ┆           ┆           ┆ Analyst   ┆   ┆           ┆           ┆           ┆ 'snowfla │\n",
      "│           ┆           ┆           ┆           ┆   ┆           ┆           ┆           ┆ ke'…     │\n",
      "│ 25%       ┆ 15075.0   ┆ 558.0     ┆ null      ┆ … ┆ 23.5      ┆ 80720.0   ┆ 62400.0   ┆ null     │\n",
      "│ 50%       ┆ 30150.0   ┆ 1116.0    ┆ null      ┆ … ┆ 33.5      ┆ 96500.0   ┆ 88400.0   ┆ null     │\n",
      "│ 75%       ┆ 45224.0   ┆ 1683.0    ┆ null      ┆ … ┆ 55.0      ┆ 120000.0  ┆ 117520.0  ┆ null     │\n",
      "│ max       ┆ 60299.0   ┆ 3772.0    ┆ 🚨 Job    ┆ … ┆ 300.0     ┆ 550000.0  ┆ 624000.0  ┆ []       │\n",
      "│           ┆           ┆           ┆ Opportuni ┆   ┆           ┆           ┆           ┆          │\n",
      "│           ┆           ┆           ┆ ty:       ┆   ┆           ┆           ┆           ┆          │\n",
      "│           ┆           ┆           ┆ Analyst   ┆   ┆           ┆           ┆           ┆          │\n",
      "│           ┆           ┆           ┆ for…      ┆   ┆           ┆           ┆           ┆          │\n",
      "└───────────┴───────────┴───────────┴───────────┴───┴───────────┴───────────┴───────────┴──────────┘\n"
     ]
    }
   ],
   "source": [
    "print(df.describe())"
   ]
  },
  {
   "cell_type": "code",
   "execution_count": 45,
   "metadata": {},
   "outputs": [
    {
     "name": "stdout",
     "output_type": "stream",
     "text": [
      "shape: (5, 27)\n",
      "┌─────┬───────┬─────────────┬─────────────┬───┬─────────────┬────────────┬────────────┬────────────┐\n",
      "│     ┆ index ┆ title       ┆ company_nam ┆ … ┆ salary_hour ┆ salary_yea ┆ salary_sta ┆ descriptio │\n",
      "│ --- ┆ ---   ┆ ---         ┆ e           ┆   ┆ ly          ┆ rly        ┆ ndardized  ┆ n_tokens   │\n",
      "│ i64 ┆ i64   ┆ str         ┆ ---         ┆   ┆ ---         ┆ ---        ┆ ---        ┆ ---        │\n",
      "│     ┆       ┆             ┆ str         ┆   ┆ f64         ┆ f64        ┆ f64        ┆ str        │\n",
      "╞═════╪═══════╪═════════════╪═════════════╪═══╪═════════════╪════════════╪════════════╪════════════╡\n",
      "│ 0   ┆ 0     ┆ Data        ┆ Meta        ┆ … ┆ null        ┆ 122000.0   ┆ 122000.0   ┆ ['python', │\n",
      "│     ┆       ┆ Analyst     ┆             ┆   ┆             ┆            ┆            ┆ 'tableau', │\n",
      "│     ┆       ┆             ┆             ┆   ┆             ┆            ┆            ┆ 'sql', '…  │\n",
      "│ 1   ┆ 1     ┆ Data        ┆ ATC         ┆ … ┆ null        ┆ null       ┆ null       ┆ []         │\n",
      "│     ┆       ┆ Analyst     ┆             ┆   ┆             ┆            ┆            ┆            │\n",
      "│ 2   ┆ 2     ┆ Aeronautica ┆ Garmin Inte ┆ … ┆ null        ┆ null       ┆ null       ┆ ['sql']    │\n",
      "│     ┆       ┆ l Data      ┆ rnational,  ┆   ┆             ┆            ┆            ┆            │\n",
      "│     ┆       ┆ Analyst     ┆ Inc.        ┆   ┆             ┆            ┆            ┆            │\n",
      "│ 3   ┆ 3     ┆ Data        ┆ Upwork      ┆ … ┆ 20.0        ┆ null       ┆ 41600.0    ┆ ['power_bi │\n",
      "│     ┆       ┆ Analyst -   ┆             ┆   ┆             ┆            ┆            ┆ ', 'powerp │\n",
      "│     ┆       ┆ Consumer    ┆             ┆   ┆             ┆            ┆            ┆ oint',     │\n",
      "│     ┆       ┆ Goods …     ┆             ┆   ┆             ┆            ┆            ┆ 'ex…       │\n",
      "│ 4   ┆ 4     ┆ Data        ┆ Krispy      ┆ … ┆ null        ┆ 100000.0   ┆ 100000.0   ┆ ['outlook' │\n",
      "│     ┆       ┆ Analyst |   ┆ Kreme       ┆   ┆             ┆            ┆            ┆ , 'powerpo │\n",
      "│     ┆       ┆ Workforce   ┆             ┆   ┆             ┆            ┆            ┆ int',      │\n",
      "│     ┆       ┆ Manag…      ┆             ┆   ┆             ┆            ┆            ┆ 'exc…      │\n",
      "└─────┴───────┴─────────────┴─────────────┴───┴─────────────┴────────────┴────────────┴────────────┘\n"
     ]
    }
   ],
   "source": [
    "# Print out the head of the DataFrame\n",
    "print(df.head())"
   ]
  },
  {
   "cell_type": "code",
   "execution_count": 46,
   "metadata": {},
   "outputs": [],
   "source": [
    "df_jobs = df['index','title','company_name','description_tokens']"
   ]
  },
  {
   "cell_type": "code",
   "execution_count": 47,
   "metadata": {},
   "outputs": [
    {
     "name": "stdout",
     "output_type": "stream",
     "text": [
      "shape: (16_007, 4)\n",
      "┌───────┬────────────────────────────────┬────────────────────────┬────────────────────────────────┐\n",
      "│ index ┆ title                          ┆ company_name           ┆ description_tokens             │\n",
      "│ ---   ┆ ---                            ┆ ---                    ┆ ---                            │\n",
      "│ i64   ┆ str                            ┆ str                    ┆ str                            │\n",
      "╞═══════╪════════════════════════════════╪════════════════════════╪════════════════════════════════╡\n",
      "│ 3     ┆ Data Analyst - Consumer Goods  ┆ Upwork                 ┆ ['power_bi', 'powerpoint',     │\n",
      "│       ┆ …                              ┆                        ┆ 'ex…                           │\n",
      "│ 4     ┆ Data Analyst | Workforce       ┆ Krispy Kreme           ┆ ['outlook', 'powerpoint',      │\n",
      "│       ┆ Manag…                         ┆                        ┆ 'exc…                          │\n",
      "│ 6     ┆ Data Analyst (Model            ┆ Swedbank               ┆ ['sas', 'python', 'spss',      │\n",
      "│       ┆ Validation…                    ┆                        ┆ 'sql…                          │\n",
      "│ 8     ┆ IT Financial Data Analyst Lead ┆ Progressive            ┆ []                             │\n",
      "│ 13    ┆ Data Warehouse and Data        ┆ Gainwell Technologies  ┆ ['sql']                        │\n",
      "│       ┆ Analys…                        ┆                        ┆                                │\n",
      "│ …     ┆ …                              ┆ …                      ┆ …                              │\n",
      "│ 1354  ┆ Digital Web Analyst (Adobe     ┆ Harnham                ┆ ['power_bi', 'tableau', 'sql'] │\n",
      "│       ┆ Ana…                           ┆                        ┆                                │\n",
      "│ 1371  ┆ Senior Data Analyst            ┆ Applied Memetics L.L.C ┆ ['go']                         │\n",
      "│       ┆ (ServiceNo…                    ┆                        ┆                                │\n",
      "│ 1388  ┆ Data Analyst - Business        ┆ Guidehouse             ┆ ['sql', 'python', 'tableau',   │\n",
      "│       ┆ Intell…                        ┆                        ┆ '…                             │\n",
      "│ 1426  ┆ COOP - Senior Data Analyst     ┆ Ryder System           ┆ ['bigquery', 'sql',            │\n",
      "│       ┆                                ┆                        ┆ 'power_bi'…                    │\n",
      "│ 1450  ┆ Lead FP&A Analyst- Remote, US  ┆ Lumen                  ┆ ['power_bi', 'powerpoint',     │\n",
      "│       ┆                                ┆                        ┆ 'ex…                           │\n",
      "└───────┴────────────────────────────────┴────────────────────────┴────────────────────────────────┘\n"
     ]
    }
   ],
   "source": [
    "print(df_jobs.filter(pl.col('title').is_unique()))"
   ]
  },
  {
   "cell_type": "code",
   "execution_count": null,
   "metadata": {},
   "outputs": [
    {
     "ename": "TypeError",
     "evalue": "'DataFrame' object is not callable",
     "output_type": "error",
     "traceback": [
      "\u001b[1;31m---------------------------------------------------------------------------\u001b[0m",
      "\u001b[1;31mTypeError\u001b[0m                                 Traceback (most recent call last)",
      "Cell \u001b[1;32mIn[48], line 3\u001b[0m\n\u001b[0;32m      1\u001b[0m df_analytics \u001b[38;5;241m=\u001b[39m df_jobs\u001b[38;5;241m.\u001b[39mfilter(pl\u001b[38;5;241m.\u001b[39mcol(\u001b[38;5;124m'\u001b[39m\u001b[38;5;124mtitle\u001b[39m\u001b[38;5;124m'\u001b[39m)\u001b[38;5;241m.\u001b[39mstr\u001b[38;5;241m.\u001b[39mcontains(\u001b[38;5;124m\"\u001b[39m\u001b[38;5;124mData Analyst\u001b[39m\u001b[38;5;124m\"\u001b[39m))\n\u001b[1;32m----> 3\u001b[0m \u001b[43mdf_analytics\u001b[49m\u001b[43m(\u001b[49m\u001b[38;5;124;43m'\u001b[39;49m\u001b[38;5;124;43mtitle\u001b[39;49m\u001b[38;5;124;43m'\u001b[39;49m\u001b[43m)\u001b[49m\u001b[38;5;241m.\u001b[39mreplace(\u001b[38;5;124m\"\u001b[39m\u001b[38;5;124mData Analyst\u001b[39m\u001b[38;5;124m\"\u001b[39m,\u001b[38;5;124m\"\u001b[39m\u001b[38;5;124m\"\u001b[39m)\n\u001b[0;32m      5\u001b[0m \u001b[38;5;66;03m#for title in df_analytics.get_column('title') :\u001b[39;00m\n\u001b[0;32m      6\u001b[0m \u001b[38;5;66;03m#    df_analytics = title.replace(\"Data Analyst\",\"\")\u001b[39;00m\n\u001b[0;32m      8\u001b[0m \u001b[38;5;28mprint\u001b[39m(df_analytics\u001b[38;5;241m.\u001b[39mhead())\n",
      "\u001b[1;31mTypeError\u001b[0m: 'DataFrame' object is not callable"
     ]
    }
   ],
   "source": [
    "df_analytics = df_jobs.filter(pl.col('title').\n",
    "                              str.contains(\"Data Analyst\"))\n",
    "\n",
    "df_analytics = df_analytics.\n",
    "\n",
    "#for title in df_analytics.get_column('title') :\n",
    "#    df_analytics = title.replace(\"Data Analyst\",\"\")\n",
    "\n",
    "print(df_analytics.head())"
   ]
  },
  {
   "cell_type": "code",
   "execution_count": null,
   "metadata": {},
   "outputs": [],
   "source": []
  }
 ],
 "metadata": {
  "kernelspec": {
   "display_name": "Python 3",
   "language": "python",
   "name": "python3"
  },
  "language_info": {
   "codemirror_mode": {
    "name": "ipython",
    "version": 3
   },
   "file_extension": ".py",
   "mimetype": "text/x-python",
   "name": "python",
   "nbconvert_exporter": "python",
   "pygments_lexer": "ipython3",
   "version": "3.13.1"
  }
 },
 "nbformat": 4,
 "nbformat_minor": 2
}
