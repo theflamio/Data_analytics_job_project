{
 "cells": [
  {
   "cell_type": "code",
   "execution_count": 43,
   "metadata": {},
   "outputs": [],
   "source": [
    "import polars as pl\n",
    "\n",
    "# Load the CSV file into a Polars DataFrame\n",
    "df = pl.read_csv('gsearch_jobs.csv')"
   ]
  },
  {
   "cell_type": "code",
   "execution_count": 44,
   "metadata": {},
   "outputs": [
    {
     "name": "stdout",
     "output_type": "stream",
     "text": [
      "shape: (9, 28)\n",
      "┌───────────┬───────────┬───────────┬───────────┬───┬───────────┬───────────┬───────────┬──────────┐\n",
      "│ statistic ┆           ┆ index     ┆ title     ┆ … ┆ salary_ho ┆ salary_ye ┆ salary_st ┆ descript │\n",
      "│ ---       ┆ ---       ┆ ---       ┆ ---       ┆   ┆ urly      ┆ arly      ┆ andardize ┆ ion_toke │\n",
      "│ str       ┆ f64       ┆ f64       ┆ str       ┆   ┆ ---       ┆ ---       ┆ d         ┆ ns       │\n",
      "│           ┆           ┆           ┆           ┆   ┆ f64       ┆ f64       ┆ ---       ┆ ---      │\n",
      "│           ┆           ┆           ┆           ┆   ┆           ┆           ┆ f64       ┆ str      │\n",
      "╞═══════════╪═══════════╪═══════════╪═══════════╪═══╪═══════════╪═══════════╪═══════════╪══════════╡\n",
      "│ count     ┆ 60300.0   ┆ 60300.0   ┆ 60300     ┆ … ┆ 5826.0    ┆ 3970.0    ┆ 9893.0    ┆ 60300    │\n",
      "│ null_coun ┆ 0.0       ┆ 0.0       ┆ 0         ┆ … ┆ 54474.0   ┆ 56330.0   ┆ 50407.0   ┆ 0        │\n",
      "│ t         ┆           ┆           ┆           ┆   ┆           ┆           ┆           ┆          │\n",
      "│ mean      ┆ 30149.5   ┆ 1153.6337 ┆ null      ┆ … ┆ 40.718141 ┆ 104304.34 ┆ 92549.213 ┆ null     │\n",
      "│           ┆           ┆ 81        ┆           ┆   ┆           ┆ 3809      ┆ 593       ┆          │\n",
      "│ std       ┆ 17407.254 ┆ 718.59215 ┆ null      ┆ … ┆ 22.241278 ┆ 35939.150 ┆ 43332.566 ┆ null     │\n",
      "│           ┆ 953       ┆ 3         ┆           ┆   ┆           ┆ 963       ┆ 149       ┆          │\n",
      "│ min       ┆ 0.0       ┆ 0.0       ┆ !!        ┆ … ┆ 7.25      ┆ 29289.84  ┆ 15080.0   ┆ ['airflo │\n",
      "│           ┆           ┆           ┆ Business  ┆   ┆           ┆           ┆           ┆ w',      │\n",
      "│           ┆           ┆           ┆ Data      ┆   ┆           ┆           ┆           ┆ 'aws',   │\n",
      "│           ┆           ┆           ┆ Analyst   ┆   ┆           ┆           ┆           ┆ 'snowfla │\n",
      "│           ┆           ┆           ┆           ┆   ┆           ┆           ┆           ┆ ke'…     │\n",
      "│ 25%       ┆ 15075.0   ┆ 558.0     ┆ null      ┆ … ┆ 23.5      ┆ 80720.0   ┆ 62400.0   ┆ null     │\n",
      "│ 50%       ┆ 30150.0   ┆ 1116.0    ┆ null      ┆ … ┆ 33.5      ┆ 96500.0   ┆ 88400.0   ┆ null     │\n",
      "│ 75%       ┆ 45224.0   ┆ 1683.0    ┆ null      ┆ … ┆ 55.0      ┆ 120000.0  ┆ 117520.0  ┆ null     │\n",
      "│ max       ┆ 60299.0   ┆ 3772.0    ┆ 🚨 Job    ┆ … ┆ 300.0     ┆ 550000.0  ┆ 624000.0  ┆ []       │\n",
      "│           ┆           ┆           ┆ Opportuni ┆   ┆           ┆           ┆           ┆          │\n",
      "│           ┆           ┆           ┆ ty:       ┆   ┆           ┆           ┆           ┆          │\n",
      "│           ┆           ┆           ┆ Analyst   ┆   ┆           ┆           ┆           ┆          │\n",
      "│           ┆           ┆           ┆ for…      ┆   ┆           ┆           ┆           ┆          │\n",
      "└───────────┴───────────┴───────────┴───────────┴───┴───────────┴───────────┴───────────┴──────────┘\n"
     ]
    }
   ],
   "source": [
    "print(df.describe())"
   ]
  },
  {
   "cell_type": "code",
   "execution_count": 45,
   "metadata": {},
   "outputs": [
    {
     "name": "stdout",
     "output_type": "stream",
     "text": [
      "shape: (5, 27)\n",
      "┌─────┬───────┬─────────────┬─────────────┬───┬─────────────┬────────────┬────────────┬────────────┐\n",
      "│     ┆ index ┆ title       ┆ company_nam ┆ … ┆ salary_hour ┆ salary_yea ┆ salary_sta ┆ descriptio │\n",
      "│ --- ┆ ---   ┆ ---         ┆ e           ┆   ┆ ly          ┆ rly        ┆ ndardized  ┆ n_tokens   │\n",
      "│ i64 ┆ i64   ┆ str         ┆ ---         ┆   ┆ ---         ┆ ---        ┆ ---        ┆ ---        │\n",
      "│     ┆       ┆             ┆ str         ┆   ┆ f64         ┆ f64        ┆ f64        ┆ str        │\n",
      "╞═════╪═══════╪═════════════╪═════════════╪═══╪═════════════╪════════════╪════════════╪════════════╡\n",
      "│ 0   ┆ 0     ┆ Data        ┆ Meta        ┆ … ┆ null        ┆ 122000.0   ┆ 122000.0   ┆ ['python', │\n",
      "│     ┆       ┆ Analyst     ┆             ┆   ┆             ┆            ┆            ┆ 'tableau', │\n",
      "│     ┆       ┆             ┆             ┆   ┆             ┆            ┆            ┆ 'sql', '…  │\n",
      "│ 1   ┆ 1     ┆ Data        ┆ ATC         ┆ … ┆ null        ┆ null       ┆ null       ┆ []         │\n",
      "│     ┆       ┆ Analyst     ┆             ┆   ┆             ┆            ┆            ┆            │\n",
      "│ 2   ┆ 2     ┆ Aeronautica ┆ Garmin Inte ┆ … ┆ null        ┆ null       ┆ null       ┆ ['sql']    │\n",
      "│     ┆       ┆ l Data      ┆ rnational,  ┆   ┆             ┆            ┆            ┆            │\n",
      "│     ┆       ┆ Analyst     ┆ Inc.        ┆   ┆             ┆            ┆            ┆            │\n",
      "│ 3   ┆ 3     ┆ Data        ┆ Upwork      ┆ … ┆ 20.0        ┆ null       ┆ 41600.0    ┆ ['power_bi │\n",
      "│     ┆       ┆ Analyst -   ┆             ┆   ┆             ┆            ┆            ┆ ', 'powerp │\n",
      "│     ┆       ┆ Consumer    ┆             ┆   ┆             ┆            ┆            ┆ oint',     │\n",
      "│     ┆       ┆ Goods …     ┆             ┆   ┆             ┆            ┆            ┆ 'ex…       │\n",
      "│ 4   ┆ 4     ┆ Data        ┆ Krispy      ┆ … ┆ null        ┆ 100000.0   ┆ 100000.0   ┆ ['outlook' │\n",
      "│     ┆       ┆ Analyst |   ┆ Kreme       ┆   ┆             ┆            ┆            ┆ , 'powerpo │\n",
      "│     ┆       ┆ Workforce   ┆             ┆   ┆             ┆            ┆            ┆ int',      │\n",
      "│     ┆       ┆ Manag…      ┆             ┆   ┆             ┆            ┆            ┆ 'exc…      │\n",
      "└─────┴───────┴─────────────┴─────────────┴───┴─────────────┴────────────┴────────────┴────────────┘\n"
     ]
    }
   ],
   "source": [
    "# Print out the head of the DataFrame\n",
    "print(df.head())"
   ]
  },
  {
   "cell_type": "code",
   "execution_count": 46,
   "metadata": {},
   "outputs": [],
   "source": [
    "df_jobs = df['index','title','company_name','description_tokens']"
   ]
  },
  {
   "cell_type": "code",
   "execution_count": 55,
   "metadata": {},
   "outputs": [
    {
     "name": "stdout",
     "output_type": "stream",
     "text": [
      "shape: (20, 4)\n",
      "┌───────┬──────────────┬────────────────────────────┬─────────────────────────────────┐\n",
      "│ index ┆ title        ┆ company_name               ┆ description_tokens              │\n",
      "│ ---   ┆ ---          ┆ ---                        ┆ ---                             │\n",
      "│ i64   ┆ str          ┆ str                        ┆ str                             │\n",
      "╞═══════╪══════════════╪════════════════════════════╪═════════════════════════════════╡\n",
      "│ 0     ┆ Data Analyst ┆ Meta                       ┆ ['python', 'tableau', 'sql', '… │\n",
      "│ 1     ┆ Data Analyst ┆ ATC                        ┆ []                              │\n",
      "│ 2     ┆ Data Analyst ┆ Garmin International, Inc. ┆ ['sql']                         │\n",
      "│ 3     ┆ Data Analyst ┆ Upwork                     ┆ ['power_bi', 'powerpoint', 'ex… │\n",
      "│ 4     ┆ Data Analyst ┆ Krispy Kreme               ┆ ['outlook', 'powerpoint', 'exc… │\n",
      "│ …     ┆ …            ┆ …                          ┆ …                               │\n",
      "│ 15    ┆ Data Analyst ┆ Walmart                    ┆ ['power_bi', 'sql', 'scala', '… │\n",
      "│ 16    ┆ Data Analyst ┆ Amplify                    ┆ ['sql', 'airflow', 'python', '… │\n",
      "│ 17    ┆ Data Analyst ┆ Textron                    ┆ ['sas', 'python', 'power_bi', … │\n",
      "│ 18    ┆ Data Analyst ┆ Flexton Inc.               ┆ ['python', 'spark', 'sql', 'sc… │\n",
      "│ 20    ┆ Data Analyst ┆ Textron                    ┆ ['sas', 'python', 'power_bi', … │\n",
      "└───────┴──────────────┴────────────────────────────┴─────────────────────────────────┘\n"
     ]
    }
   ],
   "source": [
    "df_analytics = df_jobs.filter(pl.col('title').\n",
    "                              str.contains(\"Data Analyst\"))\n",
    "\n",
    "df_analytics = df_analytics.with_columns(pl.lit(\"Data Analyst\").alias(\"title\"))\n",
    "\n",
    "\n",
    "print(df_analytics.head(20))"
   ]
  },
  {
   "cell_type": "code",
   "execution_count": 57,
   "metadata": {},
   "outputs": [
    {
     "data": {
      "text/html": [
       "<div><style>\n",
       ".dataframe > thead > tr,\n",
       ".dataframe > tbody > tr {\n",
       "  text-align: right;\n",
       "  white-space: pre-wrap;\n",
       "}\n",
       "</style>\n",
       "<small>shape: (200,)</small><table border=\"1\" class=\"dataframe\"><thead><tr><th>index</th></tr><tr><td>i64</td></tr></thead><tbody><tr><td>0</td></tr><tr><td>1</td></tr><tr><td>2</td></tr><tr><td>3</td></tr><tr><td>4</td></tr><tr><td>&hellip;</td></tr><tr><td>330</td></tr><tr><td>331</td></tr><tr><td>332</td></tr><tr><td>333</td></tr><tr><td>334</td></tr></tbody></table></div>"
      ],
      "text/plain": [
       "shape: (200,)\n",
       "Series: 'index' [i64]\n",
       "[\n",
       "\t0\n",
       "\t1\n",
       "\t2\n",
       "\t3\n",
       "\t4\n",
       "\t…\n",
       "\t330\n",
       "\t331\n",
       "\t332\n",
       "\t333\n",
       "\t334\n",
       "]"
      ]
     },
     "execution_count": 57,
     "metadata": {},
     "output_type": "execute_result"
    }
   ],
   "source": [
    "df_analytics['index'].head(200)"
   ]
  }
 ],
 "metadata": {
  "kernelspec": {
   "display_name": "Python 3",
   "language": "python",
   "name": "python3"
  },
  "language_info": {
   "codemirror_mode": {
    "name": "ipython",
    "version": 3
   },
   "file_extension": ".py",
   "mimetype": "text/x-python",
   "name": "python",
   "nbconvert_exporter": "python",
   "pygments_lexer": "ipython3",
   "version": "3.13.1"
  }
 },
 "nbformat": 4,
 "nbformat_minor": 2
}
