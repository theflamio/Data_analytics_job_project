{
 "cells": [
  {
   "cell_type": "code",
   "execution_count": 2,
   "metadata": {},
   "outputs": [
    {
     "name": "stdout",
     "output_type": "stream",
     "text": [
      "Dataset URL: https://www.kaggle.com/datasets/lukebarousse/data-analyst-job-postings-google-search\n",
      "Dataset downloaded successfully.\n"
     ]
    }
   ],
   "source": [
    "import os\n",
    "from kaggle.api.kaggle_api_extended import KaggleApi\n",
    "\n",
    "# Set the path for your Kaggle API credentials\n",
    "os.environ['KAGGLE_CONFIG_DIR'] = r'C:\\Dev\\DataAnalytics_datajobs\\TestScripts\\kaggle'\n",
    "\n",
    "# Instantiate the Kaggle API\n",
    "api = KaggleApi()\n",
    "\n",
    "# Authenticate with your Kaggle API credentials\n",
    "api.authenticate()\n",
    "\n",
    "# Specify the dataset you want to download\n",
    "dataset_name = 'lukebarousse/data-analyst-job-postings-google-search'\n",
    "\n",
    "# Define the directory to save the dataset\n",
    "save_dir = '../data'\n",
    "\n",
    "# Create the directory if it doesn't exist\n",
    "os.makedirs(save_dir, exist_ok=True)\n",
    "\n",
    "try:\n",
    "    # Download the dataset\n",
    "    api.dataset_download_files(dataset_name, path=save_dir, unzip=True)\n",
    "    print(\"Dataset downloaded successfully.\")\n",
    "except Exception as e:\n",
    "    print(f\"An error occurred: {e}\")"
   ]
  }
 ],
 "metadata": {
  "kernelspec": {
   "display_name": "Python 3",
   "language": "python",
   "name": "python3"
  },
  "language_info": {
   "codemirror_mode": {
    "name": "ipython",
    "version": 3
   },
   "file_extension": ".py",
   "mimetype": "text/x-python",
   "name": "python",
   "nbconvert_exporter": "python",
   "pygments_lexer": "ipython3",
   "version": "3.10.1"
  }
 },
 "nbformat": 4,
 "nbformat_minor": 2
}
